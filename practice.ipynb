{
 "cells": [
  {
   "cell_type": "code",
   "execution_count": 3,
   "id": "e5c04d19",
   "metadata": {},
   "outputs": [
    {
     "name": "stdout",
     "output_type": "stream",
     "text": [
      "Enter the name: Sakhsham\n",
      "Hello Sakhsham\n"
     ]
    }
   ],
   "source": [
    "name = input(\"Enter the name: \")\n",
    "if name == \"Gourav\":\n",
    "    print(\"hi Gourav ,How are you\")\n",
    "else:\n",
    "    print(\"Hello \" + name)"
   ]
  },
  {
   "cell_type": "code",
   "execution_count": 4,
   "id": "0d97b125",
   "metadata": {},
   "outputs": [
    {
     "name": "stdout",
     "output_type": "stream",
     "text": [
      "x is less than 10\n"
     ]
    }
   ],
   "source": [
    "x= 5\n",
    "if x<10:\n",
    "    print(\"x is less than 10\")\n",
    "elif x<8:\n",
    "    print(\"x is less than 8\")\n",
    "else:\n",
    "    print(\"I dont know\")"
   ]
  },
  {
   "cell_type": "code",
   "execution_count": 6,
   "id": "37061af2",
   "metadata": {},
   "outputs": [
    {
     "name": "stdout",
     "output_type": "stream",
     "text": [
      "Enter a letter: h\n",
      "letter is out the the first three alphabets\n"
     ]
    }
   ],
   "source": [
    "letter= input(\"Enter a letter: \")\n",
    "if letter == 'a'orletter =='b'or letter=='c':\n",
    "    print(\"letter is one of the first three letters of alphabet\")\n",
    "else:\n",
    "    print(\"letter is out the the first three alphabets\")"
   ]
  },
  {
   "cell_type": "code",
   "execution_count": 7,
   "id": "edbcca99",
   "metadata": {},
   "outputs": [
    {
     "name": "stdout",
     "output_type": "stream",
     "text": [
      "Enter a letter: t\n",
      "letter is out the the first three alphabets\n"
     ]
    }
   ],
   "source": [
    "letter= input(\"Enter a letter: \")\n",
    "if (letter == 'a'or\n",
    "    letter =='b'or \n",
    "    letter=='c'): # more readable\n",
    "    print(\"letter is one of the first three letters of alphabet\")\n",
    "else:\n",
    "    print(\"letter is out the the first three alphabets\")"
   ]
  },
  {
   "cell_type": "code",
   "execution_count": 8,
   "id": "07801d8c",
   "metadata": {},
   "outputs": [
    {
     "name": "stdout",
     "output_type": "stream",
     "text": [
      "x is not 4\n"
     ]
    }
   ],
   "source": [
    "x =5\n",
    "if not x==4:\n",
    "    print(\"x is not 4\")"
   ]
  },
  {
   "cell_type": "code",
   "execution_count": 9,
   "id": "11cc2396",
   "metadata": {},
   "outputs": [],
   "source": [
    "x=1234\n",
    "y ='abcd'"
   ]
  },
  {
   "cell_type": "code",
   "execution_count": 10,
   "id": "e667e89d",
   "metadata": {},
   "outputs": [
    {
     "data": {
      "text/plain": [
       "int"
      ]
     },
     "execution_count": 10,
     "metadata": {},
     "output_type": "execute_result"
    }
   ],
   "source": [
    "type(x)"
   ]
  },
  {
   "cell_type": "code",
   "execution_count": 11,
   "id": "46f034d3",
   "metadata": {},
   "outputs": [
    {
     "data": {
      "text/plain": [
       "str"
      ]
     },
     "execution_count": 11,
     "metadata": {},
     "output_type": "execute_result"
    }
   ],
   "source": [
    "type(y)"
   ]
  },
  {
   "cell_type": "code",
   "execution_count": 12,
   "id": "0a06876c",
   "metadata": {},
   "outputs": [
    {
     "data": {
      "text/plain": [
       "3"
      ]
     },
     "execution_count": 12,
     "metadata": {},
     "output_type": "execute_result"
    }
   ],
   "source": [
    "x=1\n",
    "y='2'\n",
    "x+int(y)"
   ]
  },
  {
   "cell_type": "code",
   "execution_count": 13,
   "id": "d6e43568",
   "metadata": {},
   "outputs": [
    {
     "data": {
      "text/plain": [
       "str"
      ]
     },
     "execution_count": 13,
     "metadata": {},
     "output_type": "execute_result"
    }
   ],
   "source": [
    "type(y)#type of y is still str"
   ]
  },
  {
   "cell_type": "code",
   "execution_count": 15,
   "id": "b5f785d3",
   "metadata": {},
   "outputs": [
    {
     "name": "stdout",
     "output_type": "stream",
     "text": [
      "Enter your age:5\n"
     ]
    }
   ],
   "source": [
    "age = input(\"Enter your age:\")#input function returns string "
   ]
  },
  {
   "cell_type": "code",
   "execution_count": 16,
   "id": "76d69254",
   "metadata": {},
   "outputs": [
    {
     "data": {
      "text/plain": [
       "'5'"
      ]
     },
     "execution_count": 16,
     "metadata": {},
     "output_type": "execute_result"
    }
   ],
   "source": [
    "age"
   ]
  },
  {
   "cell_type": "code",
   "execution_count": 1,
   "id": "5fd8d2a9",
   "metadata": {},
   "outputs": [
    {
     "ename": "NameError",
     "evalue": "name 'my_variabel' is not defined",
     "output_type": "error",
     "traceback": [
      "\u001b[1;31m---------------------------------------------------------------------------\u001b[0m",
      "\u001b[1;31mNameError\u001b[0m                                 Traceback (most recent call last)",
      "Cell \u001b[1;32mIn [1], line 4\u001b[0m\n\u001b[0;32m      2\u001b[0m my_var \u001b[38;5;241m=\u001b[39m my_var \u001b[38;5;241m+\u001b[39m \u001b[38;5;241m1\u001b[39m\n\u001b[0;32m      3\u001b[0m my_variable \u001b[38;5;241m=\u001b[39m \u001b[38;5;241m12\u001b[39m\n\u001b[1;32m----> 4\u001b[0m diff_var \u001b[38;5;241m=\u001b[39m \u001b[43mmy_variabel\u001b[49m \u001b[38;5;241m-\u001b[39m my_var\n\u001b[0;32m      5\u001b[0m \u001b[38;5;28mprint\u001b[39m(diff_var)\n",
      "\u001b[1;31mNameError\u001b[0m: name 'my_variabel' is not defined"
     ]
    }
   ],
   "source": [
    "my_var = 2\n",
    "my_var = my_var + 1\n",
    "my_variable = 12\n",
    "diff_var = my_variabel - my_var\n",
    "print(diff_var)"
   ]
  },
  {
   "cell_type": "code",
   "execution_count": 2,
   "id": "77f2970c",
   "metadata": {},
   "outputs": [
    {
     "data": {
      "text/plain": [
       "float"
      ]
     },
     "execution_count": 2,
     "metadata": {},
     "output_type": "execute_result"
    }
   ],
   "source": [
    "var_a = -17.5\n",
    "type(var_a)"
   ]
  },
  {
   "cell_type": "code",
   "execution_count": 3,
   "id": "bd709d6f",
   "metadata": {},
   "outputs": [
    {
     "data": {
      "text/plain": [
       "int"
      ]
     },
     "execution_count": 3,
     "metadata": {},
     "output_type": "execute_result"
    }
   ],
   "source": [
    "n = 1\n",
    "a = 'm'\n",
    "m = n\n",
    "type(m)"
   ]
  },
  {
   "cell_type": "code",
   "execution_count": 9,
   "id": "4d90a2c0",
   "metadata": {},
   "outputs": [
    {
     "data": {
      "text/plain": [
       "13.0"
      ]
     },
     "execution_count": 9,
     "metadata": {},
     "output_type": "execute_result"
    }
   ],
   "source": [
    "my_value = (3 + 2) + 16 / (4 / 2)\n",
    "my_value"
   ]
  },
  {
   "cell_type": "code",
   "execution_count": 13,
   "id": "d6b8ddc6",
   "metadata": {
    "scrolled": false
   },
   "outputs": [
    {
     "data": {
      "text/plain": [
       "3"
      ]
     },
     "execution_count": 13,
     "metadata": {},
     "output_type": "execute_result"
    }
   ],
   "source": [
    "remainder = 4*2%5\n",
    "remainder"
   ]
  },
  {
   "cell_type": "code",
   "execution_count": 14,
   "id": "c8407d08",
   "metadata": {},
   "outputs": [
    {
     "data": {
      "text/plain": [
       "True"
      ]
     },
     "execution_count": 14,
     "metadata": {},
     "output_type": "execute_result"
    }
   ],
   "source": [
    "(6<10) and (4==4)"
   ]
  },
  {
   "cell_type": "code",
   "execution_count": 1,
   "id": "537c1671",
   "metadata": {},
   "outputs": [
    {
     "name": "stdout",
     "output_type": "stream",
     "text": [
      "a\n",
      "b\n",
      "c\n",
      "d\n",
      "e\n",
      "f\n"
     ]
    }
   ],
   "source": [
    "s='abcdef'\n",
    "for letter in s:\n",
    "    print(letter)"
   ]
  },
  {
   "cell_type": "code",
   "execution_count": 2,
   "id": "6f95fe62",
   "metadata": {},
   "outputs": [
    {
     "name": "stdout",
     "output_type": "stream",
     "text": [
      "b\n",
      "c\n",
      "d\n",
      "f\n"
     ]
    }
   ],
   "source": [
    "s='abcdef'\n",
    "for letter in s:\n",
    "    if letter not in 'aeiou':#printing only consonants\n",
    "       print(letter)  "
   ]
  },
  {
   "cell_type": "code",
   "execution_count": 3,
   "id": "683a9d09",
   "metadata": {},
   "outputs": [
    {
     "name": "stdout",
     "output_type": "stream",
     "text": [
      "a\n",
      "b\n",
      "c\n"
     ]
    }
   ],
   "source": [
    "s='abcdef'\n",
    "# for ask s that are you iterable then if yes it works as a loop\n",
    "for letter in s[:3]:# slices string and include index 0 to 2 \n",
    "       print(letter)  "
   ]
  },
  {
   "cell_type": "code",
   "execution_count": 15,
   "id": "d1b39a9f",
   "metadata": {},
   "outputs": [
    {
     "name": "stdout",
     "output_type": "stream",
     "text": [
      "0 : a\n",
      "1 : b\n",
      "2 : c\n",
      "3 : d\n",
      "4 : e\n",
      "5 : f\n"
     ]
    }
   ],
   "source": [
    "#enumerate this is something which asks the question are you iterable and it is function which returns index the itm one after the other\n",
    "for index,letter in enumerate(s):\n",
    "    #for index,letter in enumerate(s,1):\n",
    "        print(f\"{index} : {letter}\")"
   ]
  },
  {
   "cell_type": "code",
   "execution_count": 19,
   "id": "75850642",
   "metadata": {},
   "outputs": [
    {
     "name": "stdout",
     "output_type": "stream",
     "text": [
      "Gourav\n",
      "Gourav\n",
      "Gourav\n",
      "Gourav\n"
     ]
    }
   ],
   "source": [
    "#for i in 4: this gives error\n",
    "for i in range(4): # range makes the int iterable\n",
    "    print(\"Gourav\")"
   ]
  },
  {
   "cell_type": "code",
   "execution_count": 20,
   "id": "e2840b43",
   "metadata": {},
   "outputs": [
    {
     "data": {
      "text/plain": [
       "True"
      ]
     },
     "execution_count": 20,
     "metadata": {},
     "output_type": "execute_result"
    }
   ],
   "source": [
    "s = 'abcdef'\n",
    "'d' in s"
   ]
  },
  {
   "cell_type": "code",
   "execution_count": 22,
   "id": "ae59160a",
   "metadata": {},
   "outputs": [
    {
     "name": "stdout",
     "output_type": "stream",
     "text": [
      "d\n"
     ]
    }
   ],
   "source": [
    "look_for = 'd'\n",
    "for letter in s:\n",
    "    if letter == look_for:\n",
    "        print(letter)\n",
    "        break # so the loop breaks as we got d"
   ]
  },
  {
   "cell_type": "code",
   "execution_count": 23,
   "id": "6f115e84",
   "metadata": {},
   "outputs": [
    {
     "name": "stdout",
     "output_type": "stream",
     "text": [
      "a\n",
      "b\n",
      "c\n"
     ]
    }
   ],
   "source": [
    "look_for = 'd'\n",
    "for letter in s: # this code prints all letters until we get d\n",
    "    if letter == look_for:\n",
    "        break\n",
    "    print(letter)"
   ]
  },
  {
   "cell_type": "code",
   "execution_count": 24,
   "id": "f536cd8a",
   "metadata": {},
   "outputs": [
    {
     "name": "stdout",
     "output_type": "stream",
     "text": [
      "a\n",
      "b\n",
      "c\n",
      "e\n",
      "f\n"
     ]
    }
   ],
   "source": [
    "look_for = 'd'\n",
    "for letter in s: # this code prints all letters until we get d\n",
    "    if letter == look_for:\n",
    "        continue # it ignores that partof loop where it is called and continues loop \n",
    "    print(letter)"
   ]
  },
  {
   "cell_type": "code",
   "execution_count": 25,
   "id": "1df7dc24",
   "metadata": {},
   "outputs": [
    {
     "name": "stdout",
     "output_type": "stream",
     "text": [
      "abcdef\n",
      "abcde\n",
      "abcd\n",
      "abc\n",
      "ab\n",
      "a\n"
     ]
    }
   ],
   "source": [
    "# for loop iterates over all items wheareas in while loop until and unless a condition is true it will do its job\n",
    "s= 'abcdef'\n",
    "while s:\n",
    "    print(s)\n",
    "    s = s[:-1]# -1 is the last element\n",
    "    "
   ]
  },
  {
   "cell_type": "code",
   "execution_count": 26,
   "id": "49b2af41",
   "metadata": {},
   "outputs": [
    {
     "name": "stdout",
     "output_type": "stream",
     "text": [
      "Enter something : abc\n",
      "you entered : abc\n",
      "Enter something : def\n",
      "you entered : def\n",
      "Enter something : \n"
     ]
    }
   ],
   "source": [
    "# while can be used when we dont know how many times user is going to put input\n",
    "s = input(\"Enter something : \")\n",
    "while s:\n",
    "    print(f\"you entered : {s}\")\n",
    "    s = input(\"Enter something : \")"
   ]
  },
  {
   "cell_type": "code",
   "execution_count": 27,
   "id": "6027c16f",
   "metadata": {},
   "outputs": [
    {
     "name": "stdout",
     "output_type": "stream",
     "text": [
      "Enter something:abc\n",
      "you entered abc\n",
      "Enter something:\n"
     ]
    }
   ],
   "source": [
    "while True:\n",
    "    s = input(\"Enter something:\")\n",
    "    if not s:\n",
    "        break\n",
    "    print(\"you entered \" + s)"
   ]
  },
  {
   "cell_type": "code",
   "execution_count": 31,
   "id": "b3d715a0",
   "metadata": {},
   "outputs": [
    {
     "name": "stdout",
     "output_type": "stream",
     "text": [
      "enter some number: 123\n",
      "6\n",
      "enter some number: 564\n",
      "15\n",
      "enter some number: \n"
     ]
    }
   ],
   "source": [
    "# nice example of combination of for and while loop\n",
    "while True:\n",
    "    s =input(\"enter some number: \")\n",
    "    if not s:\n",
    "        break\n",
    "    total = 0\n",
    "    for number in s :\n",
    "        total +=int(number)\n",
    "    print(total)"
   ]
  },
  {
   "cell_type": "code",
   "execution_count": 34,
   "id": "9f4c3d28",
   "metadata": {},
   "outputs": [
    {
     "name": "stdout",
     "output_type": "stream",
     "text": [
      "4\n"
     ]
    }
   ],
   "source": [
    "keep_looping =True\n",
    "counter =0\n",
    "while keep_looping:\n",
    "    counter = counter +1\n",
    "    if counter >3:\n",
    "        keep_looping= False\n",
    "print(counter)"
   ]
  },
  {
   "cell_type": "code",
   "execution_count": 35,
   "id": "01e6300f",
   "metadata": {},
   "outputs": [
    {
     "name": "stdout",
     "output_type": "stream",
     "text": [
      "1\n",
      "2\n",
      "3\n"
     ]
    }
   ],
   "source": [
    "my_list = [0,1,2,3,4]\n",
    "for item in my_list[0:-2]:\n",
    "    print(item+1)\n",
    "    "
   ]
  },
  {
   "cell_type": "code",
   "execution_count": 41,
   "id": "403b38a3",
   "metadata": {},
   "outputs": [
    {
     "name": "stdout",
     "output_type": "stream",
     "text": [
      "1\n",
      "4\n",
      "7\n"
     ]
    }
   ],
   "source": [
    "for int in range(1,10,3):\n",
    "    print(int)"
   ]
  },
  {
   "cell_type": "code",
   "execution_count": 1,
   "id": "92c98283",
   "metadata": {},
   "outputs": [
    {
     "data": {
      "text/plain": [
       "'abcabcabc'"
      ]
     },
     "execution_count": 1,
     "metadata": {},
     "output_type": "execute_result"
    }
   ],
   "source": [
    "x= 'abc'\n",
    "x*3"
   ]
  },
  {
   "cell_type": "code",
   "execution_count": 2,
   "id": "cceada76",
   "metadata": {},
   "outputs": [
    {
     "name": "stdout",
     "output_type": "stream",
     "text": [
      "____________________________________________________________\n"
     ]
    }
   ],
   "source": [
    "print('_'*60)"
   ]
  },
  {
   "cell_type": "code",
   "execution_count": 5,
   "id": "37ae8206",
   "metadata": {},
   "outputs": [
    {
     "ename": "TypeError",
     "evalue": "'str' object does not support item assignment",
     "output_type": "error",
     "traceback": [
      "\u001b[1;31m---------------------------------------------------------------------------\u001b[0m",
      "\u001b[1;31mTypeError\u001b[0m                                 Traceback (most recent call last)",
      "Cell \u001b[1;32mIn [5], line 1\u001b[0m\n\u001b[1;32m----> 1\u001b[0m \u001b[43mx\u001b[49m\u001b[43m[\u001b[49m\u001b[38;5;241;43m1\u001b[39;49m\u001b[43m]\u001b[49m\u001b[38;5;241m=\u001b[39m\u001b[38;5;124m'\u001b[39m\u001b[38;5;124md\u001b[39m\u001b[38;5;124m'\u001b[39m\n",
      "\u001b[1;31mTypeError\u001b[0m: 'str' object does not support item assignment"
     ]
    }
   ],
   "source": [
    "x[1]='d' #strings are immutable \n",
    "#\\\\n can be used to print \\n"
   ]
  },
  {
   "cell_type": "code",
   "execution_count": 8,
   "id": "4fc6e8a6",
   "metadata": {},
   "outputs": [
    {
     "name": "stdout",
     "output_type": "stream",
     "text": [
      "She's a nice girl\n",
      "She's a nice girl. \n",
      "He said,\"Hello\"\n"
     ]
    }
   ],
   "source": [
    "#s = 'She's a nice girl' gives error\n",
    "s =\"She's a nice girl\"\n",
    "print(s)\n",
    "s ='She\\'s a nice girl. '\n",
    "print(s)\n",
    "s = \"He said,\\\"Hello\\\"\"\n",
    "print(s)"
   ]
  },
  {
   "cell_type": "code",
   "execution_count": 10,
   "id": "6363d26c",
   "metadata": {},
   "outputs": [
    {
     "name": "stdout",
     "output_type": "stream",
     "text": [
      "c:\\abc\\def\\ghi\n"
     ]
    }
   ],
   "source": [
    "path = r'c:\\abc\\def\\ghi' # r here converts the string into raw string i.e there are no special characters in the string\n",
    "print(path)"
   ]
  },
  {
   "cell_type": "code",
   "execution_count": null,
   "id": "cba79979",
   "metadata": {},
   "outputs": [],
   "source": []
  }
 ],
 "metadata": {
  "kernelspec": {
   "display_name": "Python 3 (ipykernel)",
   "language": "python",
   "name": "python3"
  },
  "language_info": {
   "codemirror_mode": {
    "name": "ipython",
    "version": 3
   },
   "file_extension": ".py",
   "mimetype": "text/x-python",
   "name": "python",
   "nbconvert_exporter": "python",
   "pygments_lexer": "ipython3",
   "version": "3.10.4"
  }
 },
 "nbformat": 4,
 "nbformat_minor": 5
}
